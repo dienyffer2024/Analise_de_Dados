{
  "nbformat": 4,
  "nbformat_minor": 0,
  "metadata": {
    "colab": {
      "provenance": [],
      "include_colab_link": true
    },
    "kernelspec": {
      "name": "python3",
      "display_name": "Python 3"
    },
    "language_info": {
      "name": "python"
    }
  },
  "cells": [
    {
      "cell_type": "markdown",
      "metadata": {
        "id": "view-in-github",
        "colab_type": "text"
      },
      "source": [
        "<a href=\"https://colab.research.google.com/github/dienyffer2024/Python_Geral/blob/C%C3%B3digos-em-Python/Tratamento_base_Bitcoin.ipynb\" target=\"_parent\"><img src=\"https://colab.research.google.com/assets/colab-badge.svg\" alt=\"Open In Colab\"/></a>"
      ]
    },
    {
      "cell_type": "markdown",
      "source": [
        "# Instalando PySpark"
      ],
      "metadata": {
        "id": "GLj7hWyy5qkL"
      }
    },
    {
      "cell_type": "code",
      "execution_count": null,
      "metadata": {
        "colab": {
          "base_uri": "https://localhost:8080/"
        },
        "id": "CvYpHJTKuj6O",
        "outputId": "95ba2e77-c022-4b9e-b7a6-0f9f8072775f"
      },
      "outputs": [
        {
          "output_type": "stream",
          "name": "stdout",
          "text": [
            "Requirement already satisfied: pyspark in /usr/local/lib/python3.10/dist-packages (3.5.3)\n",
            "Requirement already satisfied: py4j==0.10.9.7 in /usr/local/lib/python3.10/dist-packages (from pyspark) (0.10.9.7)\n"
          ]
        }
      ],
      "source": [
        "!pip install pyspark"
      ]
    },
    {
      "cell_type": "markdown",
      "source": [
        "# Fazendo upload do arquivo em CSV"
      ],
      "metadata": {
        "id": "Z8jmP5_D5yi8"
      }
    },
    {
      "cell_type": "code",
      "source": [
        "csv_file_path = '/content/Dados Históricos - Bitcoin (1).csv'"
      ],
      "metadata": {
        "id": "TZujnMW2umeH"
      },
      "execution_count": null,
      "outputs": []
    },
    {
      "cell_type": "markdown",
      "source": [
        "# Transformando em DataFrame e visualizando"
      ],
      "metadata": {
        "id": "fk2yyJwU54Wb"
      }
    },
    {
      "cell_type": "code",
      "source": [
        "from pyspark.sql import SparkSession\n",
        "\n",
        "spark = SparkSession.builder.appName(\"ReadCSV\").getOrCreate()\n",
        "\n",
        "dfps = spark.read.csv(\"/content/Dados Históricos - Bitcoin (1).csv\", header=True, inferSchema=True)\n",
        "\n",
        "dfps.show(10)"
      ],
      "metadata": {
        "colab": {
          "base_uri": "https://localhost:8080/"
        },
        "id": "o0rRL_XKun7L",
        "outputId": "8328d2a6-a677-4738-b660-ce115c358a1f"
      },
      "execution_count": null,
      "outputs": [
        {
          "output_type": "stream",
          "name": "stdout",
          "text": [
            "+----------+--------+--------+--------+--------+-------+------+\n",
            "|      Data|  Último|Abertura|  Máxima|  Mínima|   Vol.|  Var%|\n",
            "+----------+--------+--------+--------+--------+-------+------+\n",
            "|24.03.2024|67.211,9|64.036,5|67.587,8|63.812,9| 65,59K| 4,96%|\n",
            "|23.03.2024|64.037,8|63.785,6|65.972,4|63.074,9| 35,11K| 0,40%|\n",
            "|22.03.2024|63.785,5|65.501,5|66.633,3|62.328,3| 72,43K|-2,62%|\n",
            "|21.03.2024|65.503,8|67.860,0|68.161,7|64.616,1| 75,26K|-3,46%|\n",
            "|20.03.2024|67.854,0|62.046,8|68.029,5|60.850,9|133,53K| 9,35%|\n",
            "|19.03.2024|62.050,0|67.594,1|68.099,6|61.560,6|148,08K|-8,20%|\n",
            "|18.03.2024|67.594,1|68.389,7|68.920,1|66.601,4| 78,07K|-1,17%|\n",
            "|17.03.2024|68.391,2|65.314,2|68.857,7|64.605,5| 66,07K| 4,71%|\n",
            "|16.03.2024|65.314,2|69.456,5|70.037,0|64.971,0| 75,82K|-5,97%|\n",
            "|15.03.2024|69.463,7|71.387,1|72.398,1|65.765,6|148,59K|-2,69%|\n",
            "+----------+--------+--------+--------+--------+-------+------+\n",
            "only showing top 10 rows\n",
            "\n"
          ]
        }
      ]
    },
    {
      "cell_type": "markdown",
      "source": [
        "# Verificando formato de dados das colunas"
      ],
      "metadata": {
        "id": "EBeMI--r6Fdz"
      }
    },
    {
      "cell_type": "code",
      "source": [
        "dfps.printSchema()\n",
        "dfps.show(truncate=False)"
      ],
      "metadata": {
        "colab": {
          "base_uri": "https://localhost:8080/"
        },
        "id": "vDtFCRsiupbY",
        "outputId": "57feb5cb-35d2-44c6-c7b3-da5aa133d257"
      },
      "execution_count": null,
      "outputs": [
        {
          "output_type": "stream",
          "name": "stdout",
          "text": [
            "root\n",
            " |-- Data: string (nullable = true)\n",
            " |-- Último: string (nullable = true)\n",
            " |-- Abertura: string (nullable = true)\n",
            " |-- Máxima: string (nullable = true)\n",
            " |-- Mínima: string (nullable = true)\n",
            " |-- Vol.: string (nullable = true)\n",
            " |-- Var%: string (nullable = true)\n",
            "\n",
            "+----------+--------+--------+--------+--------+-------+------+\n",
            "|Data      |Último  |Abertura|Máxima  |Mínima  |Vol.   |Var%  |\n",
            "+----------+--------+--------+--------+--------+-------+------+\n",
            "|24.03.2024|67.211,9|64.036,5|67.587,8|63.812,9|65,59K |4,96% |\n",
            "|23.03.2024|64.037,8|63.785,6|65.972,4|63.074,9|35,11K |0,40% |\n",
            "|22.03.2024|63.785,5|65.501,5|66.633,3|62.328,3|72,43K |-2,62%|\n",
            "|21.03.2024|65.503,8|67.860,0|68.161,7|64.616,1|75,26K |-3,46%|\n",
            "|20.03.2024|67.854,0|62.046,8|68.029,5|60.850,9|133,53K|9,35% |\n",
            "|19.03.2024|62.050,0|67.594,1|68.099,6|61.560,6|148,08K|-8,20%|\n",
            "|18.03.2024|67.594,1|68.389,7|68.920,1|66.601,4|78,07K |-1,17%|\n",
            "|17.03.2024|68.391,2|65.314,2|68.857,7|64.605,5|66,07K |4,71% |\n",
            "|16.03.2024|65.314,2|69.456,5|70.037,0|64.971,0|75,82K |-5,97%|\n",
            "|15.03.2024|69.463,7|71.387,1|72.398,1|65.765,6|148,59K|-2,69%|\n",
            "|14.03.2024|71.387,5|73.066,7|73.740,9|68.717,2|109,43K|-2,30%|\n",
            "|13.03.2024|73.066,3|71.461,9|73.623,5|71.338,4|77,18K |2,23% |\n",
            "|12.03.2024|71.470,2|72.099,1|72.916,7|68.845,6|105,09K|-0,87%|\n",
            "|11.03.2024|72.099,1|68.964,7|72.771,5|67.452,8|114,72K|4,54% |\n",
            "|10.03.2024|68.964,8|68.360,7|69.905,3|68.165,0|53,49K |0,88% |\n",
            "|09.03.2024|68.366,5|68.178,5|68.576,9|67.923,9|30,71K |0,29% |\n",
            "|08.03.2024|68.172,0|66.854,4|69.904,0|66.170,7|112,67K|1,97% |\n",
            "|07.03.2024|66.855,3|66.074,6|67.985,5|65.602,6|77,47K |1,17% |\n",
            "|06.03.2024|66.080,4|63.794,7|67.604,9|62.848,7|117,91K|3,59% |\n",
            "|05.03.2024|63.792,6|68.273,1|69.063,1|60.138,2|207,60K|-6,56%|\n",
            "+----------+--------+--------+--------+--------+-------+------+\n",
            "only showing top 20 rows\n",
            "\n"
          ]
        }
      ]
    },
    {
      "cell_type": "markdown",
      "source": [
        "# Transformando coluna em formato \"String\" para formato \"Date\""
      ],
      "metadata": {
        "id": "WU7s9uYP6KMp"
      }
    },
    {
      "cell_type": "code",
      "source": [
        "from pyspark.sql.functions import to_date, col, date_format\n",
        "\n",
        "dfps = dfps.withColumn(\"Data\", to_date(col(\"Data\"), \"dd.MM.yyyy\"))\n",
        "dfps.show(truncate=False)\n",
        "dfps.printSchema()"
      ],
      "metadata": {
        "colab": {
          "base_uri": "https://localhost:8080/"
        },
        "id": "0hY2G6KrurLT",
        "outputId": "1e00fec3-81aa-4b62-f120-bfbab97f00bc"
      },
      "execution_count": null,
      "outputs": [
        {
          "output_type": "stream",
          "name": "stdout",
          "text": [
            "+----------+--------+--------+--------+--------+-------+------+\n",
            "|Data      |Último  |Abertura|Máxima  |Mínima  |Vol.   |Var%  |\n",
            "+----------+--------+--------+--------+--------+-------+------+\n",
            "|2024-03-24|67.211,9|64.036,5|67.587,8|63.812,9|65,59K |4,96% |\n",
            "|2024-03-23|64.037,8|63.785,6|65.972,4|63.074,9|35,11K |0,40% |\n",
            "|2024-03-22|63.785,5|65.501,5|66.633,3|62.328,3|72,43K |-2,62%|\n",
            "|2024-03-21|65.503,8|67.860,0|68.161,7|64.616,1|75,26K |-3,46%|\n",
            "|2024-03-20|67.854,0|62.046,8|68.029,5|60.850,9|133,53K|9,35% |\n",
            "|2024-03-19|62.050,0|67.594,1|68.099,6|61.560,6|148,08K|-8,20%|\n",
            "|2024-03-18|67.594,1|68.389,7|68.920,1|66.601,4|78,07K |-1,17%|\n",
            "|2024-03-17|68.391,2|65.314,2|68.857,7|64.605,5|66,07K |4,71% |\n",
            "|2024-03-16|65.314,2|69.456,5|70.037,0|64.971,0|75,82K |-5,97%|\n",
            "|2024-03-15|69.463,7|71.387,1|72.398,1|65.765,6|148,59K|-2,69%|\n",
            "|2024-03-14|71.387,5|73.066,7|73.740,9|68.717,2|109,43K|-2,30%|\n",
            "|2024-03-13|73.066,3|71.461,9|73.623,5|71.338,4|77,18K |2,23% |\n",
            "|2024-03-12|71.470,2|72.099,1|72.916,7|68.845,6|105,09K|-0,87%|\n",
            "|2024-03-11|72.099,1|68.964,7|72.771,5|67.452,8|114,72K|4,54% |\n",
            "|2024-03-10|68.964,8|68.360,7|69.905,3|68.165,0|53,49K |0,88% |\n",
            "|2024-03-09|68.366,5|68.178,5|68.576,9|67.923,9|30,71K |0,29% |\n",
            "|2024-03-08|68.172,0|66.854,4|69.904,0|66.170,7|112,67K|1,97% |\n",
            "|2024-03-07|66.855,3|66.074,6|67.985,5|65.602,6|77,47K |1,17% |\n",
            "|2024-03-06|66.080,4|63.794,7|67.604,9|62.848,7|117,91K|3,59% |\n",
            "|2024-03-05|63.792,6|68.273,1|69.063,1|60.138,2|207,60K|-6,56%|\n",
            "+----------+--------+--------+--------+--------+-------+------+\n",
            "only showing top 20 rows\n",
            "\n",
            "root\n",
            " |-- Data: date (nullable = true)\n",
            " |-- Último: string (nullable = true)\n",
            " |-- Abertura: string (nullable = true)\n",
            " |-- Máxima: string (nullable = true)\n",
            " |-- Mínima: string (nullable = true)\n",
            " |-- Vol.: string (nullable = true)\n",
            " |-- Var%: string (nullable = true)\n",
            "\n"
          ]
        }
      ]
    },
    {
      "cell_type": "markdown",
      "source": [
        "# Removendo pontos desnecessários dos valores"
      ],
      "metadata": {
        "id": "fJ7S2m4C6WI5"
      }
    },
    {
      "cell_type": "markdown",
      "source": [
        "## Esta ação é necessária para que depois possa ser transformado para o formato \"float\", que é numérico"
      ],
      "metadata": {
        "id": "_9Y2Ie7p6rbu"
      }
    },
    {
      "cell_type": "code",
      "source": [
        "from pyspark.sql import SparkSession\n",
        "from pyspark.sql.functions import regexp_replace\n",
        "\n",
        "dfps = dfps.withColumn(\"Último\", regexp_replace(\"Último\", \"\\\\.\", \"\"))\n",
        "dfps = dfps.withColumn(\"Abertura\", regexp_replace(\"Abertura\", \"\\\\.\", \"\"))\n",
        "dfps = dfps.withColumn(\"Máxima\", regexp_replace(\"Máxima\", \"\\\\.\", \"\"))\n",
        "dfps = dfps.withColumn(\"Mínima\", regexp_replace(\"Mínima\", \"\\\\.\", \"\"))\n",
        "\n",
        "dfps.show(truncate=False)"
      ],
      "metadata": {
        "colab": {
          "base_uri": "https://localhost:8080/"
        },
        "id": "yycpm52dutRJ",
        "outputId": "31db1140-2264-4166-c24c-15861ba336b0"
      },
      "execution_count": null,
      "outputs": [
        {
          "output_type": "stream",
          "name": "stdout",
          "text": [
            "+----------+-------+--------+-------+-------+-------+------+\n",
            "|Data      |Último |Abertura|Máxima |Mínima |Vol.   |Var%  |\n",
            "+----------+-------+--------+-------+-------+-------+------+\n",
            "|2024-03-24|67211,9|64036,5 |67587,8|63812,9|65,59K |4,96% |\n",
            "|2024-03-23|64037,8|63785,6 |65972,4|63074,9|35,11K |0,40% |\n",
            "|2024-03-22|63785,5|65501,5 |66633,3|62328,3|72,43K |-2,62%|\n",
            "|2024-03-21|65503,8|67860,0 |68161,7|64616,1|75,26K |-3,46%|\n",
            "|2024-03-20|67854,0|62046,8 |68029,5|60850,9|133,53K|9,35% |\n",
            "|2024-03-19|62050,0|67594,1 |68099,6|61560,6|148,08K|-8,20%|\n",
            "|2024-03-18|67594,1|68389,7 |68920,1|66601,4|78,07K |-1,17%|\n",
            "|2024-03-17|68391,2|65314,2 |68857,7|64605,5|66,07K |4,71% |\n",
            "|2024-03-16|65314,2|69456,5 |70037,0|64971,0|75,82K |-5,97%|\n",
            "|2024-03-15|69463,7|71387,1 |72398,1|65765,6|148,59K|-2,69%|\n",
            "|2024-03-14|71387,5|73066,7 |73740,9|68717,2|109,43K|-2,30%|\n",
            "|2024-03-13|73066,3|71461,9 |73623,5|71338,4|77,18K |2,23% |\n",
            "|2024-03-12|71470,2|72099,1 |72916,7|68845,6|105,09K|-0,87%|\n",
            "|2024-03-11|72099,1|68964,7 |72771,5|67452,8|114,72K|4,54% |\n",
            "|2024-03-10|68964,8|68360,7 |69905,3|68165,0|53,49K |0,88% |\n",
            "|2024-03-09|68366,5|68178,5 |68576,9|67923,9|30,71K |0,29% |\n",
            "|2024-03-08|68172,0|66854,4 |69904,0|66170,7|112,67K|1,97% |\n",
            "|2024-03-07|66855,3|66074,6 |67985,5|65602,6|77,47K |1,17% |\n",
            "|2024-03-06|66080,4|63794,7 |67604,9|62848,7|117,91K|3,59% |\n",
            "|2024-03-05|63792,6|68273,1 |69063,1|60138,2|207,60K|-6,56%|\n",
            "+----------+-------+--------+-------+-------+-------+------+\n",
            "only showing top 20 rows\n",
            "\n"
          ]
        }
      ]
    },
    {
      "cell_type": "markdown",
      "source": [
        "# Transformando vírgula em ponto"
      ],
      "metadata": {
        "id": "9wCzZCu-6el1"
      }
    },
    {
      "cell_type": "code",
      "source": [
        "dfps = dfps.withColumn(\"Último\", regexp_replace(\"Último\", \",\", \".\"))\n",
        "dfps = dfps.withColumn(\"Abertura\", regexp_replace(\"Abertura\", \",\", \".\"))\n",
        "dfps = dfps.withColumn(\"Máxima\", regexp_replace(\"Máxima\", \",\", \".\"))\n",
        "dfps = dfps.withColumn(\"Mínima\", regexp_replace(\"Mínima\", \",\", \".\"))\n",
        "\n",
        "dfps.show(truncate=False)"
      ],
      "metadata": {
        "colab": {
          "base_uri": "https://localhost:8080/"
        },
        "id": "JV764zqZyqk3",
        "outputId": "6b720b00-81a2-4db1-e47b-11bb5f1789d6"
      },
      "execution_count": null,
      "outputs": [
        {
          "output_type": "stream",
          "name": "stdout",
          "text": [
            "+----------+-------+--------+-------+-------+-------+------+\n",
            "|Data      |Último |Abertura|Máxima |Mínima |Vol.   |Var%  |\n",
            "+----------+-------+--------+-------+-------+-------+------+\n",
            "|2024-03-24|67211.9|64036.5 |67587.8|63812.9|65,59K |4,96% |\n",
            "|2024-03-23|64037.8|63785.6 |65972.4|63074.9|35,11K |0,40% |\n",
            "|2024-03-22|63785.5|65501.5 |66633.3|62328.3|72,43K |-2,62%|\n",
            "|2024-03-21|65503.8|67860.0 |68161.7|64616.1|75,26K |-3,46%|\n",
            "|2024-03-20|67854.0|62046.8 |68029.5|60850.9|133,53K|9,35% |\n",
            "|2024-03-19|62050.0|67594.1 |68099.6|61560.6|148,08K|-8,20%|\n",
            "|2024-03-18|67594.1|68389.7 |68920.1|66601.4|78,07K |-1,17%|\n",
            "|2024-03-17|68391.2|65314.2 |68857.7|64605.5|66,07K |4,71% |\n",
            "|2024-03-16|65314.2|69456.5 |70037.0|64971.0|75,82K |-5,97%|\n",
            "|2024-03-15|69463.7|71387.1 |72398.1|65765.6|148,59K|-2,69%|\n",
            "|2024-03-14|71387.5|73066.7 |73740.9|68717.2|109,43K|-2,30%|\n",
            "|2024-03-13|73066.3|71461.9 |73623.5|71338.4|77,18K |2,23% |\n",
            "|2024-03-12|71470.2|72099.1 |72916.7|68845.6|105,09K|-0,87%|\n",
            "|2024-03-11|72099.1|68964.7 |72771.5|67452.8|114,72K|4,54% |\n",
            "|2024-03-10|68964.8|68360.7 |69905.3|68165.0|53,49K |0,88% |\n",
            "|2024-03-09|68366.5|68178.5 |68576.9|67923.9|30,71K |0,29% |\n",
            "|2024-03-08|68172.0|66854.4 |69904.0|66170.7|112,67K|1,97% |\n",
            "|2024-03-07|66855.3|66074.6 |67985.5|65602.6|77,47K |1,17% |\n",
            "|2024-03-06|66080.4|63794.7 |67604.9|62848.7|117,91K|3,59% |\n",
            "|2024-03-05|63792.6|68273.1 |69063.1|60138.2|207,60K|-6,56%|\n",
            "+----------+-------+--------+-------+-------+-------+------+\n",
            "only showing top 20 rows\n",
            "\n"
          ]
        }
      ]
    },
    {
      "cell_type": "markdown",
      "source": [
        "# Transformando colunas de valores, de \"String\" para \"Float\""
      ],
      "metadata": {
        "id": "lNVm4Eex65IO"
      }
    },
    {
      "cell_type": "code",
      "source": [
        "dfps = dfps.withColumn(\"Último\", dfps[\"Último\"].cast(\"float\"))\n",
        "dfps = dfps.withColumn(\"Abertura\", dfps[\"Abertura\"].cast(\"float\"))\n",
        "dfps = dfps.withColumn(\"Máxima\", dfps[\"Máxima\"].cast(\"float\"))\n",
        "dfps = dfps.withColumn(\"Mínima\", dfps[\"Mínima\"].cast(\"float\"))\n",
        "\n",
        "dfps.show(truncate=False)\n",
        "\n",
        "dfps.printSchema()"
      ],
      "metadata": {
        "colab": {
          "base_uri": "https://localhost:8080/"
        },
        "id": "WswWPiCk341x",
        "outputId": "a7533c3f-1bd8-48b8-b92d-3c99f286a0d2"
      },
      "execution_count": null,
      "outputs": [
        {
          "output_type": "stream",
          "name": "stdout",
          "text": [
            "+----------+-------+--------+-------+-------+-------+------+\n",
            "|Data      |Último |Abertura|Máxima |Mínima |Vol.   |Var%  |\n",
            "+----------+-------+--------+-------+-------+-------+------+\n",
            "|2024-03-24|67211.9|64036.5 |67587.8|63812.9|65,59K |4,96% |\n",
            "|2024-03-23|64037.8|63785.6 |65972.4|63074.9|35,11K |0,40% |\n",
            "|2024-03-22|63785.5|65501.5 |66633.3|62328.3|72,43K |-2,62%|\n",
            "|2024-03-21|65503.8|67860.0 |68161.7|64616.1|75,26K |-3,46%|\n",
            "|2024-03-20|67854.0|62046.8 |68029.5|60850.9|133,53K|9,35% |\n",
            "|2024-03-19|62050.0|67594.1 |68099.6|61560.6|148,08K|-8,20%|\n",
            "|2024-03-18|67594.1|68389.7 |68920.1|66601.4|78,07K |-1,17%|\n",
            "|2024-03-17|68391.2|65314.2 |68857.7|64605.5|66,07K |4,71% |\n",
            "|2024-03-16|65314.2|69456.5 |70037.0|64971.0|75,82K |-5,97%|\n",
            "|2024-03-15|69463.7|71387.1 |72398.1|65765.6|148,59K|-2,69%|\n",
            "|2024-03-14|71387.5|73066.7 |73740.9|68717.2|109,43K|-2,30%|\n",
            "|2024-03-13|73066.3|71461.9 |73623.5|71338.4|77,18K |2,23% |\n",
            "|2024-03-12|71470.2|72099.1 |72916.7|68845.6|105,09K|-0,87%|\n",
            "|2024-03-11|72099.1|68964.7 |72771.5|67452.8|114,72K|4,54% |\n",
            "|2024-03-10|68964.8|68360.7 |69905.3|68165.0|53,49K |0,88% |\n",
            "|2024-03-09|68366.5|68178.5 |68576.9|67923.9|30,71K |0,29% |\n",
            "|2024-03-08|68172.0|66854.4 |69904.0|66170.7|112,67K|1,97% |\n",
            "|2024-03-07|66855.3|66074.6 |67985.5|65602.6|77,47K |1,17% |\n",
            "|2024-03-06|66080.4|63794.7 |67604.9|62848.7|117,91K|3,59% |\n",
            "|2024-03-05|63792.6|68273.1 |69063.1|60138.2|207,60K|-6,56%|\n",
            "+----------+-------+--------+-------+-------+-------+------+\n",
            "only showing top 20 rows\n",
            "\n",
            "root\n",
            " |-- Data: date (nullable = true)\n",
            " |-- Último: float (nullable = true)\n",
            " |-- Abertura: float (nullable = true)\n",
            " |-- Máxima: float (nullable = true)\n",
            " |-- Mínima: float (nullable = true)\n",
            " |-- Vol.: string (nullable = true)\n",
            " |-- Var%: string (nullable = true)\n",
            "\n"
          ]
        }
      ]
    },
    {
      "cell_type": "markdown",
      "source": [
        "# Renomeando a coluna"
      ],
      "metadata": {
        "id": "K_y-QHoE7Anm"
      }
    },
    {
      "cell_type": "code",
      "source": [
        "dfps = dfps.withColumnRenamed(\"Último\", \"Fechamento\")"
      ],
      "metadata": {
        "id": "czzo5eRb_Cxx"
      },
      "execution_count": null,
      "outputs": []
    },
    {
      "cell_type": "markdown",
      "source": [
        "# Criando uma nova coluna e agrupando períodos por \"Halving\""
      ],
      "metadata": {
        "id": "b9loJyO57FV0"
      }
    },
    {
      "cell_type": "code",
      "source": [
        "from pyspark.sql.functions import when\n",
        "\n",
        "dfps = dfps.withColumn(\n",
        "    \"Halving\",\n",
        "    when(dfps[\"Data\"].between(\"2012-11-28\", \"2016-07-08\"), \"Halving 1\")\n",
        "    .when(dfps[\"Data\"].between(\"2016-07-09\", \"2020-05-10\"), \"Halving 2\")\n",
        "    .when(dfps[\"Data\"].between(\"2020-05-11\", \"2024-04-19\"), \"Halving 3\")\n",
        "    .when(dfps[\"Data\"] >= \"2024-04-20\", \"Halving 4\")\n",
        "    .otherwise(\"Outros Períodos\")\n",
        ")\n",
        "dfps.show(truncate=False)"
      ],
      "metadata": {
        "colab": {
          "base_uri": "https://localhost:8080/"
        },
        "id": "5_XkoJUD_5F5",
        "outputId": "f124a2c5-0d06-42f4-dcd6-3acd916d6775"
      },
      "execution_count": null,
      "outputs": [
        {
          "output_type": "stream",
          "name": "stdout",
          "text": [
            "+----------+----------+--------+-------+-------+-------+------+---------+\n",
            "|Data      |Fechamento|Abertura|Máxima |Mínima |Vol.   |Var%  |Halving  |\n",
            "+----------+----------+--------+-------+-------+-------+------+---------+\n",
            "|2024-03-24|67211.9   |64036.5 |67587.8|63812.9|65,59K |4,96% |Halving 3|\n",
            "|2024-03-23|64037.8   |63785.6 |65972.4|63074.9|35,11K |0,40% |Halving 3|\n",
            "|2024-03-22|63785.5   |65501.5 |66633.3|62328.3|72,43K |-2,62%|Halving 3|\n",
            "|2024-03-21|65503.8   |67860.0 |68161.7|64616.1|75,26K |-3,46%|Halving 3|\n",
            "|2024-03-20|67854.0   |62046.8 |68029.5|60850.9|133,53K|9,35% |Halving 3|\n",
            "|2024-03-19|62050.0   |67594.1 |68099.6|61560.6|148,08K|-8,20%|Halving 3|\n",
            "|2024-03-18|67594.1   |68389.7 |68920.1|66601.4|78,07K |-1,17%|Halving 3|\n",
            "|2024-03-17|68391.2   |65314.2 |68857.7|64605.5|66,07K |4,71% |Halving 3|\n",
            "|2024-03-16|65314.2   |69456.5 |70037.0|64971.0|75,82K |-5,97%|Halving 3|\n",
            "|2024-03-15|69463.7   |71387.1 |72398.1|65765.6|148,59K|-2,69%|Halving 3|\n",
            "|2024-03-14|71387.5   |73066.7 |73740.9|68717.2|109,43K|-2,30%|Halving 3|\n",
            "|2024-03-13|73066.3   |71461.9 |73623.5|71338.4|77,18K |2,23% |Halving 3|\n",
            "|2024-03-12|71470.2   |72099.1 |72916.7|68845.6|105,09K|-0,87%|Halving 3|\n",
            "|2024-03-11|72099.1   |68964.7 |72771.5|67452.8|114,72K|4,54% |Halving 3|\n",
            "|2024-03-10|68964.8   |68360.7 |69905.3|68165.0|53,49K |0,88% |Halving 3|\n",
            "|2024-03-09|68366.5   |68178.5 |68576.9|67923.9|30,71K |0,29% |Halving 3|\n",
            "|2024-03-08|68172.0   |66854.4 |69904.0|66170.7|112,67K|1,97% |Halving 3|\n",
            "|2024-03-07|66855.3   |66074.6 |67985.5|65602.6|77,47K |1,17% |Halving 3|\n",
            "|2024-03-06|66080.4   |63794.7 |67604.9|62848.7|117,91K|3,59% |Halving 3|\n",
            "|2024-03-05|63792.6   |68273.1 |69063.1|60138.2|207,60K|-6,56%|Halving 3|\n",
            "+----------+----------+--------+-------+-------+-------+------+---------+\n",
            "only showing top 20 rows\n",
            "\n"
          ]
        }
      ]
    },
    {
      "cell_type": "markdown",
      "source": [
        "# Salvando o arquivo após tratamentos"
      ],
      "metadata": {
        "id": "gszIxHJ77Nvl"
      }
    },
    {
      "cell_type": "code",
      "source": [
        "dfps.write.csv(\"output/dados_fechamento\", header=True)"
      ],
      "metadata": {
        "id": "UEXMxrcNDOJq"
      },
      "execution_count": null,
      "outputs": []
    }
  ]
}